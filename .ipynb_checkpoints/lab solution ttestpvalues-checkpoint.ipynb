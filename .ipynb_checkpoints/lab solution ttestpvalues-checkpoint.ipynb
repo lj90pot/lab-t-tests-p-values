{
 "cells": [
  {
   "cell_type": "markdown",
   "id": "73b8a58b",
   "metadata": {},
   "source": [
    "Instructions\n",
    "We will have another simple example on two sample t test (pooled- when the variances are equal). But this time this is a one sided t-test\n",
    "In a packing plant, a machine packs cartons with jars. It is supposed that a new machine will pack faster on the average than the machine currently used. To test that hypothesis, the times it takes each machine to pack ten cartons are recorded. The results, in seconds, are shown in the tables in the file files_for_lab/machine.txt. Assume that there is sufficient evidence to conduct the t test, does the data provide sufficient evidence to show if one machine is better than the other"
   ]
  },
  {
   "cell_type": "code",
   "execution_count": 6,
   "id": "38c5133e",
   "metadata": {},
   "outputs": [],
   "source": [
    "import pandas as pd \n",
    "import numpy as np\n",
    "\n",
    "\n",
    "from numpy.random import seed\n",
    "from numpy.random import randn\n",
    "from numpy.random import normal\n",
    "from scipy.stats import ttest_rel"
   ]
  },
  {
   "cell_type": "code",
   "execution_count": 10,
   "id": "3419f6c3",
   "metadata": {},
   "outputs": [],
   "source": [
    "new=[42.1,41,41.3,41.8,42.4,42.8,43.2,42.3,41.8,42.7]\n",
    "old=[42.7,43.6,43.8,43.3,42.5,43.5,43.1,41.7,44,44.1]"
   ]
  },
  {
   "cell_type": "code",
   "execution_count": 11,
   "id": "e5bda844",
   "metadata": {},
   "outputs": [
    {
     "data": {
      "text/plain": [
       "0.4204000000000012"
      ]
     },
     "execution_count": 11,
     "metadata": {},
     "output_type": "execute_result"
    }
   ],
   "source": [
    "mean_new=sum(new)/len(new)\n",
    "var_new=np.var(new)\n",
    "mean_old=sum(old)/len(old)\n",
    "var_old=np.var(old)\n",
    "var_new"
   ]
  },
  {
   "cell_type": "code",
   "execution_count": 12,
   "id": "99cd4b45",
   "metadata": {},
   "outputs": [],
   "source": [
    "#Step1: H0 means are equal. \n",
    "#Step 2: HA means are different\n",
    "#Step 3: this is a two tailed test \n",
    "#Step 4: this is a sample <30 t-test\n",
    "\n",
    "    "
   ]
  },
  {
   "cell_type": "code",
   "execution_count": 13,
   "id": "8bca3306",
   "metadata": {},
   "outputs": [
    {
     "name": "stdout",
     "output_type": "stream",
     "text": [
      "T-statistic value:  -3.0614273841115844\n",
      "P-Value:  0.013540335651632521\n"
     ]
    }
   ],
   "source": [
    "#Step 5: t statistic\n",
    "t_stat, p_value = ttest_rel(new, old)\n",
    "print(\"T-statistic value: \", t_stat)  \n",
    "print(\"P-Value: \", p_value)    "
   ]
  },
  {
   "cell_type": "code",
   "execution_count": null,
   "id": "e5944b86",
   "metadata": {},
   "outputs": [],
   "source": [
    "we accept H0"
   ]
  }
 ],
 "metadata": {
  "kernelspec": {
   "display_name": "Python 3 (ipykernel)",
   "language": "python",
   "name": "python3"
  },
  "language_info": {
   "codemirror_mode": {
    "name": "ipython",
    "version": 3
   },
   "file_extension": ".py",
   "mimetype": "text/x-python",
   "name": "python",
   "nbconvert_exporter": "python",
   "pygments_lexer": "ipython3",
   "version": "3.10.9"
  }
 },
 "nbformat": 4,
 "nbformat_minor": 5
}
